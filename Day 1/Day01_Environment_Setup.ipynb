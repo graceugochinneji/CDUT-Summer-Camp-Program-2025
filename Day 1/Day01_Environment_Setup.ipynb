{
 "cells": [
  {
   "cell_type": "markdown",
   "id": "4909947c",
   "metadata": {},
   "source": [
    "# 🧠 AI Summer School – Day 1: Environment Setup (Windows + pip)\n",
    "Learn to set up your machine for AI projects using virtual environments and pip."
   ]
  },
  {
   "cell_type": "markdown",
   "id": "cdeae66c",
   "metadata": {},
   "source": [
    "## 🔧 Step 1: Install Python and Add to PATH"
   ]
  },
  {
   "cell_type": "markdown",
   "id": "424bacfe",
   "metadata": {},
   "source": [
    "\n",
    "1. Visit https://www.python.org/downloads/\n",
    "2. Click \"Download Python 3.11.x\"\n",
    "3. Run the installer and check:\n",
    "   - Add Python to PATH\n",
    "   - Install launcher for all users\n",
    "4. Then click Install Now\n"
   ]
  },
  {
   "cell_type": "markdown",
   "id": "2d678cac",
   "metadata": {},
   "source": [
    "## ✅ Step 2: Confirm Installation"
   ]
  },
  {
   "cell_type": "code",
   "execution_count": null,
   "id": "520af40e",
   "metadata": {},
   "outputs": [],
   "source": [
    "\n",
    "python --version\n",
    "pip --version\n"
   ]
  },
  {
   "cell_type": "markdown",
   "id": "c8cc6f41",
   "metadata": {},
   "source": [
    "## 📦 Step 3: Create a Virtual Environment"
   ]
  },
  {
   "cell_type": "code",
   "execution_count": null,
   "id": "d7fac476",
   "metadata": {},
   "outputs": [],
   "source": [
    "\n",
    "python -m venv ai_project\n"
   ]
  },
  {
   "cell_type": "markdown",
   "id": "d1e32e10",
   "metadata": {},
   "source": [
    "## ▶️ Step 4: Activate the Environment"
   ]
  },
  {
   "cell_type": "code",
   "execution_count": null,
   "id": "2d0a881c",
   "metadata": {},
   "outputs": [],
   "source": [
    "\n",
    "ai_project\\Scripts\\activate\n"
   ]
  },
  {
   "cell_type": "markdown",
   "id": "b8f16adc",
   "metadata": {},
   "source": [
    "## 📥 Step 5: Install Required Libraries"
   ]
  },
  {
   "cell_type": "code",
   "execution_count": null,
   "id": "729f1a77",
   "metadata": {},
   "outputs": [],
   "source": [
    "\n",
    "pip install numpy pandas matplotlib seaborn scikit-learn streamlit jupyterlab xgboost\n"
   ]
  },
  {
   "cell_type": "markdown",
   "id": "0b5744c1",
   "metadata": {},
   "source": [
    "## 🧪 Step 6: Test the Installation"
   ]
  },
  {
   "cell_type": "code",
   "execution_count": null,
   "id": "a00a80cf",
   "metadata": {},
   "outputs": [],
   "source": [
    "\n",
    "import numpy as np\n",
    "import pandas as pd\n",
    "from sklearn.linear_model import LinearRegression\n",
    "print('✅ Environment setup is working!')\n"
   ]
  },
  {
   "cell_type": "markdown",
   "id": "286d1454",
   "metadata": {},
   "source": [
    "## 🚀 Step 7: Launch JupyterLab"
   ]
  },
  {
   "cell_type": "code",
   "execution_count": null,
   "id": "399d3ed8",
   "metadata": {},
   "outputs": [],
   "source": [
    "\n",
    "jupyter lab\n"
   ]
  },
  {
   "cell_type": "markdown",
   "id": "fc6fabc2",
   "metadata": {},
   "source": [
    "## 📤 Step 8: Save Your Environment"
   ]
  },
  {
   "cell_type": "code",
   "execution_count": null,
   "id": "46b9639a",
   "metadata": {},
   "outputs": [],
   "source": [
    "\n",
    "pip freeze > requirements.txt\n"
   ]
  },
  {
   "cell_type": "markdown",
   "id": "e48cc622",
   "metadata": {},
   "source": [
    "## 📥 Step 9: Reinstall Environment"
   ]
  },
  {
   "cell_type": "code",
   "execution_count": null,
   "id": "ec450c37",
   "metadata": {},
   "outputs": [],
   "source": [
    "\n",
    "pip install -r requirements.txt\n"
   ]
  },
  {
   "cell_type": "markdown",
   "id": "748680be",
   "metadata": {},
   "source": [
    "## 🔁 Step 10: Reactivate Later"
   ]
  },
  {
   "cell_type": "code",
   "execution_count": null,
   "id": "fc6d5d70",
   "metadata": {},
   "outputs": [],
   "source": [
    "\n",
    "ai_project\\Scripts\\activate\n"
   ]
  },
  {
   "cell_type": "markdown",
   "id": "e6c9d695",
   "metadata": {},
   "source": [
    "## 📝 Summary Table"
   ]
  },
  {
   "cell_type": "markdown",
   "id": "fa97b302",
   "metadata": {},
   "source": [
    "| Task | Command |\n",
    "|------|---------|\n",
    "| Create venv | python -m venv ai_project |\n",
    "| Activate venv | ai_project\\Scripts\\activate |\n",
    "| Install packages | pip install ... |\n",
    "| Save env | pip freeze > requirements.txt |\n",
    "| Load env | pip install -r requirements.txt |"
   ]
  },
  {
   "cell_type": "markdown",
   "id": "7fefe784",
   "metadata": {},
   "source": [
    "## ❓ Review Questions"
   ]
  },
  {
   "cell_type": "markdown",
   "id": "c43f4ccb",
   "metadata": {},
   "source": [
    "\n",
    "1. What does \"Add to PATH\" do?\n",
    "2. Why use a virtual environment?\n",
    "3. Name 3 essential Python libraries for AI.\n",
    "4. How do you save and reload environments?\n",
    "5. What is the use of `requirements.txt`?\n"
   ]
  }
 ],
 "metadata": {},
 "nbformat": 4,
 "nbformat_minor": 5
}